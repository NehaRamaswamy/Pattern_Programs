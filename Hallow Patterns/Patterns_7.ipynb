{
 "cells": [
  {
   "cell_type": "code",
   "execution_count": 30,
   "id": "30a4c096",
   "metadata": {},
   "outputs": [
    {
     "name": "stdout",
     "output_type": "stream",
     "text": [
      "*                 * \n",
      "* *             * * \n",
      "*   *         *   * \n",
      "*     *     *     * \n",
      "*       * *       * \n",
      "*     *     *     * \n",
      "*   *         *   * \n",
      "* *             * * \n",
      "*                 * \n",
      "                    \n"
     ]
    }
   ],
   "source": [
    "num = 5\n",
    "lstars = 1\n",
    "rstars = num\n",
    "spaces = (num*2) - 2\n",
    "for row in range(1,num*2 +1):\n",
    "    for col in range(1,lstars+1):\n",
    "        if col == 1 or col == lstars:\n",
    "            print(\"*\",end =' ')\n",
    "        else:\n",
    "            print(' ',end=' ')\n",
    "    for sp in range(spaces):\n",
    "        print(' ',end=' ')\n",
    "    for col in range(rstars,num+1):\n",
    "        if col == num or col == rstars:\n",
    "            print(\"*\",end =' ')\n",
    "        else:\n",
    "            print(' ',end=' ')\n",
    "    print()\n",
    "    \n",
    "    if row < num:        \n",
    "        lstars += 1\n",
    "        rstars -= 1\n",
    "        spaces -= 2\n",
    "    else:        \n",
    "        lstars -= 1\n",
    "        rstars += 1\n",
    "        spaces += 2\n",
    "\n"
   ]
  },
  {
   "cell_type": "code",
   "execution_count": null,
   "id": "b6071a0f",
   "metadata": {},
   "outputs": [],
   "source": []
  }
 ],
 "metadata": {
  "kernelspec": {
   "display_name": "base",
   "language": "python",
   "name": "python3"
  },
  "language_info": {
   "codemirror_mode": {
    "name": "ipython",
    "version": 3
   },
   "file_extension": ".py",
   "mimetype": "text/x-python",
   "name": "python",
   "nbconvert_exporter": "python",
   "pygments_lexer": "ipython3",
   "version": "3.13.5"
  }
 },
 "nbformat": 4,
 "nbformat_minor": 5
}
