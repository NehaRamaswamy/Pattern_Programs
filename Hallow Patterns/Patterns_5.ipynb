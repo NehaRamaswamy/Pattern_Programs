{
 "cells": [
  {
   "cell_type": "code",
   "execution_count": 27,
   "id": "ad4e1f5a",
   "metadata": {},
   "outputs": [
    {
     "name": "stdout",
     "output_type": "stream",
     "text": [
      "    * \n",
      "  *   * \n",
      "*       * \n",
      "  *   * \n",
      "    * \n"
     ]
    }
   ],
   "source": [
    "num = 5\n",
    "spaces = num//2\n",
    "stars = 1\n",
    "\n",
    "for row in range(1,num+1):\n",
    "    for sp in range(spaces):\n",
    "        print(' ',end=' ')\n",
    "    for col in range(1,stars+1):\n",
    "        if col == 1 or col == stars :\n",
    "            print('*',end=' ')\n",
    "        else:\n",
    "            print(' ',end=' ')\n",
    "    print()\n",
    "\n",
    "    if row < num // 2 + 1:\n",
    "        spaces -= 1\n",
    "        stars += 2\n",
    "    else:\n",
    "        spaces += 1\n",
    "        stars -= 2\n"
   ]
  },
  {
   "cell_type": "code",
   "execution_count": null,
   "id": "1061bdb0",
   "metadata": {},
   "outputs": [],
   "source": []
  }
 ],
 "metadata": {
  "kernelspec": {
   "display_name": "base",
   "language": "python",
   "name": "python3"
  },
  "language_info": {
   "codemirror_mode": {
    "name": "ipython",
    "version": 3
   },
   "file_extension": ".py",
   "mimetype": "text/x-python",
   "name": "python",
   "nbconvert_exporter": "python",
   "pygments_lexer": "ipython3",
   "version": "3.13.5"
  }
 },
 "nbformat": 4,
 "nbformat_minor": 5
}
