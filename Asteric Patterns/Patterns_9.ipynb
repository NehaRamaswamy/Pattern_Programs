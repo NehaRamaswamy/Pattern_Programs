{
 "cells": [
  {
   "cell_type": "code",
   "execution_count": 1,
   "id": "40f85c15",
   "metadata": {},
   "outputs": [
    {
     "name": "stdout",
     "output_type": "stream",
     "text": [
      "        * \n",
      "      * * * \n",
      "    * * * * * \n",
      "  * * * * * * * \n",
      "* * * * * * * * * \n"
     ]
    }
   ],
   "source": [
    "num = 5\n",
    "for row in range(1, num + 1):\n",
    "    for sp in range( num - row ):\n",
    "        print(' ', end=' ')\n",
    "    for ast in range(2* row - 1):\n",
    "        print('*',end=' ')\n",
    "    print()"
   ]
  },
  {
   "cell_type": "code",
   "execution_count": 3,
   "id": "0edcc6b5",
   "metadata": {},
   "outputs": [
    {
     "name": "stdout",
     "output_type": "stream",
     "text": [
      "        * \n",
      "      * * * \n",
      "    * * * * * \n",
      "  * * * * * * * \n",
      "* * * * * * * * * \n"
     ]
    }
   ],
   "source": [
    "num = 5\n",
    "spaces = num - 1 \n",
    "stars = 1\n",
    "\n",
    "for row in range(1,num+1):\n",
    "    for sp in range(spaces):\n",
    "        print(' ',end=' ')\n",
    "    for ast in range(1,stars+1):\n",
    "        print('*',end=' ')\n",
    "    print()\n",
    "\n",
    "    spaces -= 1\n",
    "    stars += 2"
   ]
  },
  {
   "cell_type": "code",
   "execution_count": 1,
   "id": "b964f1dc",
   "metadata": {},
   "outputs": [
    {
     "name": "stdout",
     "output_type": "stream",
     "text": [
      "          * \n",
      "        * * * \n",
      "      * * * * * \n",
      "    * * * * * * * \n",
      "  * * * * * * * * * \n"
     ]
    }
   ],
   "source": [
    "num = 5 \n",
    "spaces = num - 1 \n",
    "stars = 1\n",
    "row = 1\n",
    "while row <= num:\n",
    "    sp = 0\n",
    "    while sp <= spaces:\n",
    "        print(' ',end=' ')\n",
    "        sp += 1\n",
    "    ast = 1\n",
    "    while ast <= stars:\n",
    "        print('*', end=' ')\n",
    "        ast += 1\n",
    "    print()\n",
    "\n",
    "    spaces -= 1\n",
    "    stars += 2\n",
    "    row += 1"
   ]
  },
  {
   "cell_type": "code",
   "execution_count": 2,
   "id": "9905b5ce",
   "metadata": {},
   "outputs": [
    {
     "name": "stdout",
     "output_type": "stream",
     "text": [
      "          * \n",
      "        * * * \n",
      "      * * * * * \n",
      "    * * * * * * * \n",
      "  * * * * * * * * * \n"
     ]
    }
   ],
   "source": [
    "num = 5\n",
    "row = 1\n",
    "while row <= num:\n",
    "    sp = 0\n",
    "    while sp <= num - row:\n",
    "        print(' ',end=' ')\n",
    "        sp += 1\n",
    "    \n",
    "    ast = 1\n",
    "    while ast <= 2* row - 1:\n",
    "        print('*',end=' ')\n",
    "        ast += 1\n",
    "    print()\n",
    "    row += 1"
   ]
  },
  {
   "cell_type": "code",
   "execution_count": null,
   "id": "09b35a9d",
   "metadata": {},
   "outputs": [],
   "source": []
  }
 ],
 "metadata": {
  "kernelspec": {
   "display_name": "base",
   "language": "python",
   "name": "python3"
  },
  "language_info": {
   "codemirror_mode": {
    "name": "ipython",
    "version": 3
   },
   "file_extension": ".py",
   "mimetype": "text/x-python",
   "name": "python",
   "nbconvert_exporter": "python",
   "pygments_lexer": "ipython3",
   "version": "3.13.5"
  }
 },
 "nbformat": 4,
 "nbformat_minor": 5
}
