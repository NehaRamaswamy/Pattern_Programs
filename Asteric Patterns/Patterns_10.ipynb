{
 "cells": [
  {
   "cell_type": "code",
   "execution_count": 1,
   "id": "d78d00be",
   "metadata": {},
   "outputs": [
    {
     "name": "stdout",
     "output_type": "stream",
     "text": [
      "* * * * * * * * * \n",
      "  * * * * * * * \n",
      "    * * * * * \n",
      "      * * * \n",
      "        * \n"
     ]
    }
   ],
   "source": [
    "num = 5\n",
    "for row in range(num,0,-1):\n",
    "    for sp in range(num-row):\n",
    "        print(' ',end=' ')\n",
    "    for ast in range(2 * row - 1 ):\n",
    "        print('*', end=' ')\n",
    "    print()\n"
   ]
  },
  {
   "cell_type": "code",
   "execution_count": 2,
   "id": "3a97f4ac",
   "metadata": {},
   "outputs": [
    {
     "name": "stdout",
     "output_type": "stream",
     "text": [
      "* * * * * * * * * \n",
      "  * * * * * * * \n",
      "    * * * * * \n",
      "      * * * \n",
      "        * \n"
     ]
    }
   ],
   "source": [
    "num = 5\n",
    "spaces = 0\n",
    "stars = num*2-1\n",
    "for row in range(1,num+1):\n",
    "    for sp in range(1,spaces+1):\n",
    "        print(' ',end=' ')\n",
    "    for ast in range(1,stars+1):\n",
    "        print('*',end=' ')\n",
    "    print()\n",
    "    spaces += 1\n",
    "    stars -= 2"
   ]
  },
  {
   "cell_type": "code",
   "execution_count": 3,
   "id": "eade7b17",
   "metadata": {},
   "outputs": [
    {
     "name": "stdout",
     "output_type": "stream",
     "text": [
      "  * * * * * * * * * \n",
      "    * * * * * * * \n",
      "      * * * * * \n",
      "        * * * \n",
      "          * \n"
     ]
    }
   ],
   "source": [
    "num = 5\n",
    "spaces = 0 \n",
    "stars = 2 * row - 1\n",
    "row = num\n",
    "while row != 0:\n",
    "    sp = 0\n",
    "    while sp <= spaces:\n",
    "        print(' ',end=' ')\n",
    "        sp += 1\n",
    "    ast = 1\n",
    "    while ast <= stars:\n",
    "        print('*', end=' ')\n",
    "        ast += 1\n",
    "    print()\n",
    "\n",
    "    spaces += 1\n",
    "    stars -= 2\n",
    "    row -= 1"
   ]
  },
  {
   "cell_type": "code",
   "execution_count": 4,
   "id": "baaeaa04",
   "metadata": {},
   "outputs": [
    {
     "name": "stdout",
     "output_type": "stream",
     "text": [
      "  * * * * * * * * * \n",
      "    * * * * * * * \n",
      "      * * * * * \n",
      "        * * * \n",
      "          * \n"
     ]
    }
   ],
   "source": [
    "num = 5\n",
    "row = num\n",
    "while row != 0:\n",
    "    sp = 0 \n",
    "    while sp <= num - row :\n",
    "        print(' ',end = ' ')\n",
    "        sp += 1\n",
    "    ast = 1\n",
    "    while ast <= 2*row - 1:\n",
    "        print('*',end = ' ') \n",
    "        ast += 1\n",
    "    print()\n",
    "    row -= 1"
   ]
  },
  {
   "cell_type": "code",
   "execution_count": null,
   "id": "e9abddca",
   "metadata": {},
   "outputs": [],
   "source": []
  }
 ],
 "metadata": {
  "kernelspec": {
   "display_name": "base",
   "language": "python",
   "name": "python3"
  },
  "language_info": {
   "codemirror_mode": {
    "name": "ipython",
    "version": 3
   },
   "file_extension": ".py",
   "mimetype": "text/x-python",
   "name": "python",
   "nbconvert_exporter": "python",
   "pygments_lexer": "ipython3",
   "version": "3.13.5"
  }
 },
 "nbformat": 4,
 "nbformat_minor": 5
}
