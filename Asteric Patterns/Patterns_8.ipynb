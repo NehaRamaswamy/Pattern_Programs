{
 "cells": [
  {
   "cell_type": "code",
   "execution_count": 1,
   "id": "92415f1f",
   "metadata": {},
   "outputs": [
    {
     "name": "stdout",
     "output_type": "stream",
     "text": [
      "* * * * * \n",
      "  * * * * \n",
      "    * * * \n",
      "      * * \n",
      "        * \n"
     ]
    }
   ],
   "source": [
    "num = 5\n",
    "stars = num \n",
    "spaces = 0\n",
    "for row in range(1, num+1):\n",
    "    for sp in range(1,spaces+1):\n",
    "        print(' ',end=' ')\n",
    "    for ast in range(1,stars + 1):\n",
    "        print('*',end=' ')\n",
    "    print()\n",
    "    spaces += 1\n",
    "    stars -= 1\n",
    "    "
   ]
  },
  {
   "cell_type": "code",
   "execution_count": 2,
   "id": "5b57b6d0",
   "metadata": {},
   "outputs": [
    {
     "name": "stdout",
     "output_type": "stream",
     "text": [
      "* * * * * \n",
      "  * * * * \n",
      "    * * * \n",
      "      * * \n",
      "        * \n"
     ]
    }
   ],
   "source": [
    "num = 5\n",
    "for row in range(1, num + 1):\n",
    "    for sp in range(row-1):\n",
    "        print(' ',end=' ')\n",
    "    for ast in range(num - row +1):\n",
    "        print('*',end=' ')\n",
    "    print()\n",
    "    "
   ]
  },
  {
   "cell_type": "code",
   "execution_count": 2,
   "id": "1887ecfb",
   "metadata": {},
   "outputs": [
    {
     "name": "stdout",
     "output_type": "stream",
     "text": [
      "  * * * * * \n",
      "    * * * * \n",
      "      * * * \n",
      "        * * \n",
      "          * \n"
     ]
    }
   ],
   "source": [
    "num = 5\n",
    "row = 1\n",
    "while row <= num :\n",
    "    sp=0\n",
    "    while sp <= row -1 :\n",
    "        print(' ', end=' ')\n",
    "        sp += 1\n",
    "    ast = 1\n",
    "    while ast <= num - row + 1:\n",
    "        print('*',end=' ')\n",
    "        ast += 1\n",
    "    print()\n",
    "    row += 1\n",
    "    "
   ]
  },
  {
   "cell_type": "code",
   "execution_count": 3,
   "id": "2a152355",
   "metadata": {},
   "outputs": [
    {
     "name": "stdout",
     "output_type": "stream",
     "text": [
      "    * * * * * \n",
      "      * * * * \n",
      "        * * * \n",
      "          * * \n",
      "            * \n"
     ]
    }
   ],
   "source": [
    "num = 5\n",
    "spaces = 1\n",
    "stars = num \n",
    "row = 1\n",
    "while row <= num:\n",
    "    sp = 0\n",
    "    while sp <= spaces:\n",
    "        print(' ',end=' ')\n",
    "        sp += 1\n",
    "    ast = 1\n",
    "    while ast <= stars:\n",
    "        print('*',end=' ')\n",
    "        ast += 1\n",
    "    print()\n",
    "    spaces += 1\n",
    "    stars -= 1\n",
    "    row += 1"
   ]
  },
  {
   "cell_type": "code",
   "execution_count": null,
   "id": "1f58c68a",
   "metadata": {},
   "outputs": [],
   "source": []
  }
 ],
 "metadata": {
  "kernelspec": {
   "display_name": "base",
   "language": "python",
   "name": "python3"
  },
  "language_info": {
   "codemirror_mode": {
    "name": "ipython",
    "version": 3
   },
   "file_extension": ".py",
   "mimetype": "text/x-python",
   "name": "python",
   "nbconvert_exporter": "python",
   "pygments_lexer": "ipython3",
   "version": "3.13.5"
  }
 },
 "nbformat": 4,
 "nbformat_minor": 5
}
