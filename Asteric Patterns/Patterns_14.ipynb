{
 "cells": [
  {
   "cell_type": "code",
   "execution_count": 3,
   "id": "01ae6780",
   "metadata": {},
   "outputs": [
    {
     "name": "stdout",
     "output_type": "stream",
     "text": [
      "* * * * * \n",
      "  * * * \n",
      "    * \n",
      "  * * * \n",
      "* * * * * \n"
     ]
    }
   ],
   "source": [
    "num = 5\n",
    "spaces = 0\n",
    "stars = num\n",
    "\n",
    "for row in range(1,num + 1):\n",
    "    for sp in range(1,spaces+1):\n",
    "        print(' ',end=' ')\n",
    "    for ast in range(1,stars+1):\n",
    "        print('*',end=' ')\n",
    "    print()\n",
    "\n",
    "    if row <= num // 2:\n",
    "        spaces += 1\n",
    "        stars -= 2\n",
    "    else:\n",
    "        spaces -= 1\n",
    "        stars += 2"
   ]
  },
  {
   "cell_type": "code",
   "execution_count": 1,
   "id": "622c2974",
   "metadata": {},
   "outputs": [
    {
     "name": "stdout",
     "output_type": "stream",
     "text": [
      "* * * * * \n",
      "  * * * \n",
      "    * \n",
      "  * * * \n",
      "* * * * * \n"
     ]
    }
   ],
   "source": [
    "num = 5\n",
    "spaces = 0\n",
    "stars = num\n",
    "row = 1\n",
    "while row < num + 1:\n",
    "    sp = 1\n",
    "    while sp < spaces + 1:\n",
    "        print(' ',end=' ')\n",
    "        sp += 1\n",
    "    ast = 1\n",
    "    while ast < stars + 1:\n",
    "        print('*',end = ' ')\n",
    "        ast += 1\n",
    "    print()\n",
    "\n",
    "    if row < num // 2 + 1:\n",
    "        spaces += 1\n",
    "        stars -= 2\n",
    "    else:\n",
    "        spaces -= 1\n",
    "        stars += 2\n",
    "    row += 1"
   ]
  },
  {
   "cell_type": "code",
   "execution_count": null,
   "id": "d5e2d7cb",
   "metadata": {},
   "outputs": [],
   "source": []
  }
 ],
 "metadata": {
  "kernelspec": {
   "display_name": "base",
   "language": "python",
   "name": "python3"
  },
  "language_info": {
   "codemirror_mode": {
    "name": "ipython",
    "version": 3
   },
   "file_extension": ".py",
   "mimetype": "text/x-python",
   "name": "python",
   "nbconvert_exporter": "python",
   "pygments_lexer": "ipython3",
   "version": "3.13.5"
  }
 },
 "nbformat": 4,
 "nbformat_minor": 5
}
