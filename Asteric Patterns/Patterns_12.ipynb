{
 "cells": [
  {
   "cell_type": "code",
   "execution_count": 1,
   "id": "7bd250e5",
   "metadata": {},
   "outputs": [
    {
     "name": "stdout",
     "output_type": "stream",
     "text": [
      "* \n",
      "* * \n",
      "* * * \n",
      "* * \n",
      "* \n"
     ]
    }
   ],
   "source": [
    "num = 5\n",
    "stars = 1\n",
    "for row in range(1, num+1):\n",
    "    for ast in range(1,stars+1):\n",
    "        print('*',end=' ')\n",
    "    print()\n",
    "\n",
    "    if row < num // 2 + 1:\n",
    "        stars += 1\n",
    "    else:\n",
    "        stars -= 1"
   ]
  },
  {
   "cell_type": "code",
   "execution_count": 1,
   "id": "972029d5",
   "metadata": {},
   "outputs": [
    {
     "name": "stdout",
     "output_type": "stream",
     "text": [
      "* \n",
      "* * \n",
      "* * * \n",
      "* * \n",
      "* \n"
     ]
    }
   ],
   "source": [
    "num = 5\n",
    "stars = 1\n",
    "row = 1\n",
    "\n",
    "while row < num + 1:\n",
    "    ast = 1\n",
    "    while ast < stars + 1:\n",
    "        print('*',end=' ')\n",
    "        ast += 1\n",
    "    print()\n",
    "\n",
    "    if row < num // 2 + 1:\n",
    "        stars += 1\n",
    "    else:\n",
    "        stars -= 1\n",
    "    row += 1"
   ]
  },
  {
   "cell_type": "code",
   "execution_count": null,
   "id": "46e38a03",
   "metadata": {},
   "outputs": [],
   "source": [
    "\n"
   ]
  }
 ],
 "metadata": {
  "kernelspec": {
   "display_name": "base",
   "language": "python",
   "name": "python3"
  },
  "language_info": {
   "codemirror_mode": {
    "name": "ipython",
    "version": 3
   },
   "file_extension": ".py",
   "mimetype": "text/x-python",
   "name": "python",
   "nbconvert_exporter": "python",
   "pygments_lexer": "ipython3",
   "version": "3.13.5"
  }
 },
 "nbformat": 4,
 "nbformat_minor": 5
}
