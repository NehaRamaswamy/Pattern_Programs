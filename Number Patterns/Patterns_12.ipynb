{
 "cells": [
  {
   "cell_type": "code",
   "execution_count": 2,
   "id": "6fb285d8",
   "metadata": {},
   "outputs": [
    {
     "name": "stdout",
     "output_type": "stream",
     "text": [
      "          5 \n",
      "        4 5 \n",
      "      3 4 5 \n",
      "    2 3 4 5 \n",
      "  1 2 3 4 5 \n"
     ]
    }
   ],
   "source": [
    "num = 5\n",
    "for row in range(num, 0 , -1):\n",
    "    for sp in range(row):\n",
    "        print(' ',end=' ')\n",
    "    for val in range(row,num+1):\n",
    "        print(val,end=' ')\n",
    "    print()"
   ]
  },
  {
   "cell_type": "code",
   "execution_count": 2,
   "id": "a7b31d17",
   "metadata": {},
   "outputs": [
    {
     "name": "stdout",
     "output_type": "stream",
     "text": [
      "        5 \n",
      "      4 5 \n",
      "    3 4 5 \n",
      "  2 3 4 5 \n",
      "1 2 3 4 5 \n"
     ]
    }
   ],
   "source": [
    "num = 5\n",
    "spaces = num -1\n",
    "for row in range(num, 0 , -1):\n",
    "    for sp in range(spaces):\n",
    "        print(' ',end=' ')\n",
    "    for val in range(row,num+1):\n",
    "        print(val,end=' ')\n",
    "    print()\n",
    "    spaces -= 1"
   ]
  },
  {
   "cell_type": "code",
   "execution_count": null,
   "id": "4cffa96f",
   "metadata": {},
   "outputs": [],
   "source": []
  }
 ],
 "metadata": {
  "kernelspec": {
   "display_name": "base",
   "language": "python",
   "name": "python3"
  },
  "language_info": {
   "codemirror_mode": {
    "name": "ipython",
    "version": 3
   },
   "file_extension": ".py",
   "mimetype": "text/x-python",
   "name": "python",
   "nbconvert_exporter": "python",
   "pygments_lexer": "ipython3",
   "version": "3.13.5"
  }
 },
 "nbformat": 4,
 "nbformat_minor": 5
}
