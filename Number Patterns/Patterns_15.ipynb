{
 "cells": [
  {
   "cell_type": "code",
   "execution_count": 3,
   "id": "bac1c300",
   "metadata": {},
   "outputs": [
    {
     "name": "stdout",
     "output_type": "stream",
     "text": [
      "      1 \n",
      "    1 2 3 \n",
      "  1 2 3 4 5 \n",
      "1 2 3 4 5 6 7 \n"
     ]
    }
   ],
   "source": [
    "num = 4\n",
    "for row in range(1,num+1):\n",
    "    for sp in range(num-row):\n",
    "        print(' ',end=' ')\n",
    "    for val in range(1,row*2):\n",
    "        print(val,end=' ')\n",
    "    print()"
   ]
  },
  {
   "cell_type": "code",
   "execution_count": null,
   "id": "b446c977",
   "metadata": {},
   "outputs": [],
   "source": []
  }
 ],
 "metadata": {
  "kernelspec": {
   "display_name": "base",
   "language": "python",
   "name": "python3"
  },
  "language_info": {
   "codemirror_mode": {
    "name": "ipython",
    "version": 3
   },
   "file_extension": ".py",
   "mimetype": "text/x-python",
   "name": "python",
   "nbconvert_exporter": "python",
   "pygments_lexer": "ipython3",
   "version": "3.13.5"
  }
 },
 "nbformat": 4,
 "nbformat_minor": 5
}
