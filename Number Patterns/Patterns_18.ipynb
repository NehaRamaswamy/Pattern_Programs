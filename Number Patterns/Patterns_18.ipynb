{
 "cells": [
  {
   "cell_type": "code",
   "execution_count": 2,
   "id": "9e2c46a3",
   "metadata": {},
   "outputs": [
    {
     "name": "stdout",
     "output_type": "stream",
     "text": [
      "      1 \n",
      "    1 2 3 \n",
      "  1 2 3 4 5 \n",
      "    1 2 3 \n",
      "      1 \n"
     ]
    }
   ],
   "source": [
    "num = 5\n",
    "spaces = num // 2\n",
    "values = 1\n",
    "\n",
    "for row in range(1, num+1):\n",
    "    for sp in range(spaces+1):\n",
    "        print(' ',end=' ')\n",
    "    for val in range(1,values+1):\n",
    "        print(val, end=' ')\n",
    "    print()\n",
    "\n",
    "    if row <= num //2:\n",
    "        spaces -= 1\n",
    "        values += 2\n",
    "    else:\n",
    "        spaces += 1\n",
    "        values -= 2"
   ]
  },
  {
   "cell_type": "code",
   "execution_count": null,
   "id": "dab1111c",
   "metadata": {},
   "outputs": [],
   "source": []
  }
 ],
 "metadata": {
  "kernelspec": {
   "display_name": "base",
   "language": "python",
   "name": "python3"
  },
  "language_info": {
   "codemirror_mode": {
    "name": "ipython",
    "version": 3
   },
   "file_extension": ".py",
   "mimetype": "text/x-python",
   "name": "python",
   "nbconvert_exporter": "python",
   "pygments_lexer": "ipython3",
   "version": "3.13.5"
  }
 },
 "nbformat": 4,
 "nbformat_minor": 5
}
